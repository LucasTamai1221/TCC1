{
 "cells": [
  {
   "cell_type": "code",
   "execution_count": 1,
   "id": "2e61ce3a",
   "metadata": {},
   "outputs": [],
   "source": [
    "import datetime\n",
    "import numpy as np\n",
    "import os\n",
    "import time\n",
    "import torch\n",
    "import torch.nn.functional as F\n",
    "import torch.nn as nn\n",
    "import torch.optim as optim\n",
    "import torchvision\n",
    "import torchvision.datasets as datasets\n",
    "import torchvision.transforms as transforms\n",
    "import matplotlib.pyplot as plt\n",
    "import random\n",
    "import albumentations as A\n",
    "\n",
    "\n",
    "from math import log2\n",
    "from PIL import Image\n",
    "from pydicom import dcmread\n",
    "from torch.utils.data import DataLoader\n",
    "from torch.utils.data import Dataset\n",
    "from torch.utils.tensorboard import SummaryWriter  # to print to tensorboard\n",
    "from tqdm import tqdm\n",
    "from torchvision.utils import save_image"
   ]
  },
  {
   "cell_type": "code",
   "execution_count": 2,
   "id": "f8efe6b9",
   "metadata": {},
   "outputs": [],
   "source": [
    "torch.cuda.empty_cache()"
   ]
  },
  {
   "cell_type": "code",
   "execution_count": 3,
   "id": "88e83b7b",
   "metadata": {},
   "outputs": [],
   "source": [
    "%run utils.ipynb"
   ]
  },
  {
   "cell_type": "markdown",
   "id": "f1cc16e0",
   "metadata": {},
   "source": [
    "## Utils"
   ]
  },
  {
   "cell_type": "code",
   "execution_count": 4,
   "id": "97bf53cd",
   "metadata": {},
   "outputs": [],
   "source": [
    "from torchvision.utils import save_image\n",
    "from scipy.stats import truncnorm\n",
    "\n",
    "# Print losses occasionally and print to tensorboard\n",
    "def plot_to_tensorboard(\n",
    "    writer, loss_critic, loss_gen, real, fake, cur_res, lr, tensorboard_step\n",
    "):\n",
    "    writer.add_scalar(\"data/loss_dis\", loss_critic, global_step=tensorboard_step)\n",
    "    writer.add_scalar(\"data/loss_gen\", loss_gen, global_step=tensorboard_step)\n",
    "    writer.add_scalar(\"data/cur_resl\", int(cur_res), global_step=tensorboard_step)\n",
    "    writer.add_scalar(\"data/cur_lr\", lr, global_step=tensorboard_step)\n",
    "\n",
    "    with torch.no_grad():\n",
    "        # take out (up to) 8 examples to plot\n",
    "        img_grid_real = torchvision.utils.make_grid(real[:16], normalize=True)\n",
    "        img_grid_fake = torchvision.utils.make_grid(fake[:16], normalize=True)\n",
    "        writer.add_image(\"Real\", img_grid_real, global_step=tensorboard_step)\n",
    "        writer.add_image(\"Fake\", img_grid_fake, global_step=tensorboard_step)\n",
    "\n",
    "\n",
    "def gradient_penalty(critic, real, fake, alpha, train_step, device=\"cpu\"):\n",
    "    BATCH_SIZE, C, H, W = real.shape\n",
    "    beta = torch.rand((BATCH_SIZE, 1, 1, 1)).repeat(1, C, H, W).to(device)\n",
    "    interpolated_images = real * beta + fake.detach() * (1 - beta)\n",
    "    interpolated_images.requires_grad_(True)\n",
    "\n",
    "    # Calculate critic scores\n",
    "    mixed_scores = critic(interpolated_images, alpha, train_step)\n",
    "\n",
    "    # Take the gradient of the scores with respect to the images\n",
    "    gradient = torch.autograd.grad(\n",
    "        inputs=interpolated_images,\n",
    "        outputs=mixed_scores,\n",
    "        grad_outputs=torch.ones_like(mixed_scores),\n",
    "        create_graph=True,\n",
    "        retain_graph=True,\n",
    "    )[0]\n",
    "    gradient = gradient.view(gradient.shape[0], -1)\n",
    "    gradient_norm = gradient.norm(2, dim=1)\n",
    "    gradient_penalty = torch.mean((gradient_norm - 1) ** 2)\n",
    "    return gradient_penalty\n",
    "\n",
    "\n",
    "def save_checkpoint(model, optimizer, filename=\"my_checkpoint.pth.tar\"):\n",
    "    print(\"=> Saving checkpoint\")\n",
    "    checkpoint = {\n",
    "        \"state_dict\": model.state_dict(),\n",
    "        \"optimizer\": optimizer.state_dict(),\n",
    "    }\n",
    "    torch.save(checkpoint, filename)\n",
    "\n",
    "\n",
    "def load_checkpoint(checkpoint_file, model, optimizer, lr):\n",
    "    print(\"=> Loading checkpoint\")\n",
    "    checkpoint = torch.load(checkpoint_file, map_location=\"cuda\")\n",
    "    model.load_state_dict(checkpoint[\"state_dict\"])\n",
    "    optimizer.load_state_dict(checkpoint[\"optimizer\"])\n",
    "\n",
    "    # If we don't do this then it will just have learning rate of old checkpoint\n",
    "    # and it will lead to many hours of debugging \\:\n",
    "    for param_group in optimizer.param_groups:\n",
    "        param_group[\"lr\"] = lr\n",
    "\n",
    "def seed_everything(seed=42):\n",
    "    os.environ['PYTHONHASHSEED'] = str(seed)\n",
    "    random.seed(seed)\n",
    "    np.random.seed(seed)\n",
    "    torch.manual_seed(seed)\n",
    "    torch.cuda.manual_seed(seed)\n",
    "    torch.cuda.manual_seed_all(seed)\n",
    "    torch.backends.cudnn.deterministic = True\n",
    "    torch.backends.cudnn.benchmark = False\n",
    "\n",
    "def generate_examples(gen, steps, truncation=0.7, n=100):\n",
    "    \"\"\"\n",
    "    Tried using truncation trick here but not sure it actually helped anything, you can\n",
    "    remove it if you like and just sample from torch.randn\n",
    "    \"\"\"\n",
    "    gen.eval()\n",
    "    alpha = 1.0\n",
    "    for i in range(n):\n",
    "        with torch.no_grad():\n",
    "            noise = torch.tensor(truncnorm.rvs(-truncation, truncation, size=(1, Z_DIM, 1, 1)), device=DEVICE, dtype=torch.float32)\n",
    "            img = gen(noise, alpha, steps)\n",
    "            save_image(img*0.5+0.5, f\"saved_examples/img_{i}.png\")\n",
    "    gen.train()"
   ]
  },
  {
   "cell_type": "markdown",
   "id": "f2c182a8",
   "metadata": {},
   "source": [
    "## Model"
   ]
  },
  {
   "cell_type": "code",
   "execution_count": 5,
   "id": "afbf3271",
   "metadata": {},
   "outputs": [],
   "source": [
    "\"\"\"\n",
    "Implementation of ProGAN generator and discriminator with the key\n",
    "attributions from the paper. We have tried to make the implementation\n",
    "compact but a goal is also to keep it readable and understandable.\n",
    "Specifically the key points implemented are:\n",
    "\n",
    "1) Progressive growing (of model and layers)\n",
    "2) Minibatch std on Discriminator\n",
    "3) Normalization with PixelNorm\n",
    "4) Equalized Learning Rate (here I cheated and only did it on Conv layers)\n",
    "\"\"\"\n",
    "\n",
    "\"\"\"\n",
    "Factors is used in Discrmininator and Generator for how much\n",
    "the channels should be multiplied and expanded for each layer,\n",
    "so specifically the first 5 layers the channels stay the same,\n",
    "whereas when we increase the img_size (towards the later layers)\n",
    "we decrease the number of chanels by 1/2, 1/4, etc.\n",
    "\"\"\"\n",
    "factors = [1, 1, 1, 1, 1 / 2, 1 / 4, 1 / 8, 1 / 16, 1 / 32]\n",
    "\n",
    "\n",
    "class WSConv2d(nn.Module):\n",
    "    \"\"\"\n",
    "    Weight scaled Conv2d (Equalized Learning Rate)\n",
    "    Note that input is multiplied rather than changing weights\n",
    "    this will have the same result.\n",
    "\n",
    "    Inspired and looked at:\n",
    "    https://github.com/nvnbny/progressive_growing_of_gans/blob/master/modelUtils.py\n",
    "    \"\"\"\n",
    "\n",
    "    def __init__(\n",
    "        self, in_channels, out_channels, kernel_size=3, stride=1, padding=1, gain=2\n",
    "    ):\n",
    "        super(WSConv2d, self).__init__()\n",
    "        self.conv = nn.Conv2d(in_channels, out_channels, kernel_size, stride, padding)\n",
    "        self.scale = (gain / (in_channels * (kernel_size ** 2))) ** 0.5\n",
    "        self.bias = self.conv.bias\n",
    "        self.conv.bias = None\n",
    "\n",
    "        # initialize conv layer\n",
    "        nn.init.normal_(self.conv.weight)\n",
    "        nn.init.zeros_(self.bias)\n",
    "\n",
    "    def forward(self, x):\n",
    "        return self.conv(x * self.scale) + self.bias.view(1, self.bias.shape[0], 1, 1)\n",
    "\n",
    "\n",
    "class PixelNorm(nn.Module):\n",
    "    def __init__(self):\n",
    "        super(PixelNorm, self).__init__()\n",
    "        self.epsilon = 1e-8\n",
    "\n",
    "    def forward(self, x):\n",
    "        return x / torch.sqrt(torch.mean(x ** 2, dim=1, keepdim=True) + self.epsilon)\n",
    "\n",
    "\n",
    "class ConvBlock(nn.Module):\n",
    "    def __init__(self, in_channels, out_channels, use_pixelnorm=True):\n",
    "        super(ConvBlock, self).__init__()\n",
    "        self.use_pn = use_pixelnorm\n",
    "        self.conv1 = WSConv2d(in_channels, out_channels)\n",
    "        self.conv2 = WSConv2d(out_channels, out_channels)\n",
    "        self.leaky = nn.LeakyReLU(0.2)\n",
    "        self.pn = PixelNorm()\n",
    "\n",
    "    def forward(self, x):\n",
    "        x = self.leaky(self.conv1(x))\n",
    "        x = self.pn(x) if self.use_pn else x\n",
    "        x = self.leaky(self.conv2(x))\n",
    "        x = self.pn(x) if self.use_pn else x\n",
    "        return x\n",
    "\n",
    "\n",
    "class Generator(nn.Module):\n",
    "    def __init__(self, z_dim, in_channels, img_channels=3):\n",
    "        super(Generator, self).__init__()\n",
    "\n",
    "        # initial takes 1x1 -> 4x4\n",
    "        self.initial = nn.Sequential(\n",
    "            PixelNorm(),\n",
    "            nn.ConvTranspose2d(z_dim, in_channels, 4, 1, 0),\n",
    "            nn.LeakyReLU(0.2),\n",
    "            WSConv2d(in_channels, in_channels, kernel_size=3, stride=1, padding=1),\n",
    "            nn.LeakyReLU(0.2),\n",
    "            PixelNorm(),\n",
    "        )\n",
    "\n",
    "        self.initial_rgb = WSConv2d(\n",
    "            in_channels, img_channels, kernel_size=1, stride=1, padding=0\n",
    "        )\n",
    "        self.prog_blocks, self.rgb_layers = (\n",
    "            nn.ModuleList([]),\n",
    "            nn.ModuleList([self.initial_rgb]),\n",
    "        )\n",
    "\n",
    "        for i in range(\n",
    "            len(factors) - 1\n",
    "        ):  # -1 to prevent index error because of factors[i+1]\n",
    "            conv_in_c = int(in_channels * factors[i])\n",
    "            conv_out_c = int(in_channels * factors[i + 1])\n",
    "            self.prog_blocks.append(ConvBlock(conv_in_c, conv_out_c))\n",
    "            self.rgb_layers.append(\n",
    "                WSConv2d(conv_out_c, img_channels, kernel_size=1, stride=1, padding=0)\n",
    "            )\n",
    "\n",
    "    def fade_in(self, alpha, upscaled, generated):\n",
    "        # alpha should be scalar within [0, 1], and upscale.shape == generated.shape\n",
    "        return torch.tanh(alpha * generated + (1 - alpha) * upscaled)\n",
    "\n",
    "    def forward(self, x, alpha, steps):\n",
    "        out = self.initial(x)\n",
    "\n",
    "        if steps == 0:\n",
    "            return self.initial_rgb(out)\n",
    "\n",
    "        for step in range(steps):\n",
    "            upscaled = F.interpolate(out, scale_factor=2, mode=\"nearest\")\n",
    "            out = self.prog_blocks[step](upscaled)\n",
    "\n",
    "        # The number of channels in upscale will stay the same, while\n",
    "        # out which has moved through prog_blocks might change. To ensure\n",
    "        # we can convert both to rgb we use different rgb_layers\n",
    "        # (steps-1) and steps for upscaled, out respectively\n",
    "        final_upscaled = self.rgb_layers[steps - 1](upscaled)\n",
    "        final_out = self.rgb_layers[steps](out)\n",
    "        return self.fade_in(alpha, final_upscaled, final_out)\n",
    "\n",
    "\n",
    "class Discriminator(nn.Module):\n",
    "    def __init__(self, z_dim, in_channels, img_channels=3):\n",
    "        super(Discriminator, self).__init__()\n",
    "        self.prog_blocks, self.rgb_layers = nn.ModuleList([]), nn.ModuleList([])\n",
    "        self.leaky = nn.LeakyReLU(0.2)\n",
    "\n",
    "        # here we work back ways from factors because the discriminator\n",
    "        # should be mirrored from the generator. So the first prog_block and\n",
    "        # rgb layer we append will work for input size 1024x1024, then 512->256-> etc\n",
    "        for i in range(len(factors) - 1, 0, -1):\n",
    "            conv_in = int(in_channels * factors[i])\n",
    "            conv_out = int(in_channels * factors[i - 1])\n",
    "            self.prog_blocks.append(ConvBlock(conv_in, conv_out, use_pixelnorm=False))\n",
    "            self.rgb_layers.append(\n",
    "                WSConv2d(img_channels, conv_in, kernel_size=1, stride=1, padding=0)\n",
    "            )\n",
    "\n",
    "        # perhaps confusing name \"initial_rgb\" this is just the RGB layer for 4x4 input size\n",
    "        # did this to \"mirror\" the generator initial_rgb\n",
    "        self.initial_rgb = WSConv2d(\n",
    "            img_channels, in_channels, kernel_size=1, stride=1, padding=0\n",
    "        )\n",
    "        self.rgb_layers.append(self.initial_rgb)\n",
    "        self.avg_pool = nn.AvgPool2d(\n",
    "            kernel_size=2, stride=2\n",
    "        )  # down sampling using avg pool\n",
    "\n",
    "        # this is the block for 4x4 input size\n",
    "        self.final_block = nn.Sequential(\n",
    "            # +1 to in_channels because we concatenate from MiniBatch std\n",
    "            WSConv2d(in_channels + 1, in_channels, kernel_size=3, padding=1),\n",
    "            nn.LeakyReLU(0.2),\n",
    "            WSConv2d(in_channels, in_channels, kernel_size=4, padding=0, stride=1),\n",
    "            nn.LeakyReLU(0.2),\n",
    "            WSConv2d(\n",
    "                in_channels, 1, kernel_size=1, padding=0, stride=1\n",
    "            ),  # we use this instead of linear layer\n",
    "        )\n",
    "\n",
    "    def fade_in(self, alpha, downscaled, out):\n",
    "        \"\"\"Used to fade in downscaled using avg pooling and output from CNN\"\"\"\n",
    "        # alpha should be scalar within [0, 1], and upscale.shape == generated.shape\n",
    "        return alpha * out + (1 - alpha) * downscaled\n",
    "\n",
    "    def minibatch_std(self, x):\n",
    "        batch_statistics = (\n",
    "            torch.std(x, dim=0).mean().repeat(x.shape[0], 1, x.shape[2], x.shape[3])\n",
    "        )\n",
    "        # we take the std for each example (across all channels, and pixels) then we repeat it\n",
    "        # for a single channel and concatenate it with the image. In this way the discriminator\n",
    "        # will get information about the variation in the batch/image\n",
    "        return torch.cat([x, batch_statistics], dim=1)\n",
    "\n",
    "    def forward(self, x, alpha, steps):\n",
    "        # where we should start in the list of prog_blocks, maybe a bit confusing but\n",
    "        # the last is for the 4x4. So example let's say steps=1, then we should start\n",
    "        # at the second to last because input_size will be 8x8. If steps==0 we just\n",
    "        # use the final block\n",
    "        cur_step = len(self.prog_blocks) - steps\n",
    "\n",
    "        # convert from rgb as initial step, this will depend on\n",
    "        # the image size (each will have it's on rgb layer)\n",
    "        out = self.leaky(self.rgb_layers[cur_step](x))\n",
    "\n",
    "        if steps == 0:  # i.e, image is 4x4\n",
    "            out = self.minibatch_std(out)\n",
    "            return self.final_block(out).view(out.shape[0], -1)\n",
    "\n",
    "        # because prog_blocks might change the channels, for down scale we use rgb_layer\n",
    "        # from previous/smaller size which in our case correlates to +1 in the indexing\n",
    "        downscaled = self.leaky(self.rgb_layers[cur_step + 1](self.avg_pool(x)))\n",
    "        out = self.avg_pool(self.prog_blocks[cur_step](out))\n",
    "\n",
    "        # the fade_in is done first between the downscaled and the input\n",
    "        # this is opposite from the generator\n",
    "        out = self.fade_in(alpha, downscaled, out)\n",
    "\n",
    "        for step in range(cur_step + 1, len(self.prog_blocks)):\n",
    "            out = self.prog_blocks[step](out)\n",
    "            out = self.avg_pool(out)\n",
    "\n",
    "        out = self.minibatch_std(out)\n",
    "        return self.final_block(out).view(out.shape[0], -1)\n",
    "\n",
    "\n",
    "# if __name__ == \"__main__\":\n",
    "#     Z_DIM = 100\n",
    "#     IN_CHANNELS = 256\n",
    "#     gen = Generator(Z_DIM, IN_CHANNELS, img_channels=3)\n",
    "#     critic = Discriminator(Z_DIM, IN_CHANNELS, img_channels=3)\n",
    "\n",
    "#     for img_size in [4, 8, 16, 32, 64, 128, 256, 512, 1024]:\n",
    "#         num_steps = int(log2(img_size / 4))\n",
    "#         x = torch.randn((1, Z_DIM, 1, 1))\n",
    "#         z = gen(x, 0.5, steps=num_steps)\n",
    "#         assert z.shape == (1, 3, img_size, img_size)\n",
    "#         out = critic(z, alpha=0.5, steps=num_steps)\n",
    "#         assert out.shape == (1, 1)\n",
    "#         print(f\"Success! At img size: {img_size}\")"
   ]
  },
  {
   "cell_type": "markdown",
   "id": "d4f1856e",
   "metadata": {},
   "source": [
    "## Hyperparameters"
   ]
  },
  {
   "cell_type": "code",
   "execution_count": 6,
   "id": "7fa3fbb8",
   "metadata": {},
   "outputs": [],
   "source": [
    "LUNG_CANCER_TYPE = 'adeno'\n",
    "EPOCHS = [50]\n",
    "LEARNING_RATE = 1e-3\n",
    "# MODEL_NAME = f'pggan_roi_{LUNG_CANCER_TYPE}_epochs_{EPOCHS[0]}_lr_{LEARNING_RATE}'\n",
    "MODEL_NAME = f'pggan_roi_{LUNG_CANCER_TYPE}_prog_epochs_alpha_0.75'\n",
    "CHECKPOINT_GEN = f\"models/gan/generator_{MODEL_NAME}.pth.tar\"\n",
    "CHECKPOINT_CRITIC = f\"models/gan/critic_{MODEL_NAME}.pth.tar\"\n",
    "DEVICE = \"cuda\" if torch.cuda.is_available() else \"cpu\"\n",
    "SAVE_MODEL = True\n",
    "LOAD_MODEL = False\n",
    "LEARNING_RATE_DECAY = None\n",
    "BATCH_SIZES = [32, 32, 32, 32, 32] # 4, 8, 16, 32, 64, 128, 256, 512 # [32, 32, 32, 24, 12]\n",
    "START_TRAIN_AT_IMG_SIZE = 4\n",
    "MAX_RES = 64\n",
    "CHANNELS_IMG = 1\n",
    "Z_DIM = 512  # should be 512 in original paper\n",
    "IN_CHANNELS = 512  # should be 512 in original paper\n",
    "CRITIC_ITERATIONS = 1\n",
    "LAMBDA_GP = 10\n",
    "PROGRESSIVE_EPOCHS = EPOCHS * len(BATCH_SIZES)\n",
    "# PROGRESSIVE_EPOCHS = [30,30,30,50,75]\n",
    "FIXED_NOISE = torch.randn(16, Z_DIM, 1, 1).to(DEVICE)\n",
    "NUM_WORKERS = 4\n",
    "TRAIN_DIR = f\"/Storage/PauloOctavioDir/nodule_rois/gan/{LUNG_CANCER_TYPE}/images\"\n",
    "MIN_HU_VALUE = -1024\n",
    "MAX_HU_VALUE = 1000\n",
    "ALPHA_MUL = 0.75"
   ]
  },
  {
   "cell_type": "markdown",
   "id": "79bf1f3b",
   "metadata": {},
   "source": [
    "## Dataset and Loader"
   ]
  },
  {
   "cell_type": "code",
   "execution_count": 7,
   "id": "4a706a15",
   "metadata": {},
   "outputs": [],
   "source": [
    "def normalize(image):\n",
    "    min_val = MIN_HU_VALUE\n",
    "    max_val = MAX_HU_VALUE\n",
    "    image[image < min_val] = min_val\n",
    "    image[image > max_val] = max_val\n",
    "    image = (image - min_val) / (max_val - min_val)\n",
    "    return image\n",
    "\n",
    "def denormalize(image):\n",
    "    min_val = MIN_HU_VALUE\n",
    "    max_val = MAX_HU_VALUE\n",
    "    return image * (max_val - min_val) + min_val"
   ]
  },
  {
   "cell_type": "code",
   "execution_count": 8,
   "id": "3d1a3b57",
   "metadata": {},
   "outputs": [],
   "source": [
    "class LungNoduleDataset(Dataset):\n",
    "    def __init__(self, image_dir, transform=None):\n",
    "        self.image_dir = image_dir\n",
    "        self.transform = transform\n",
    "        images = os.listdir(image_dir)\n",
    "        if 'rtss.dcm' in images: images.remove('rtss.dcm')\n",
    "        self.images = images\n",
    "\n",
    "\n",
    "    def __len__(self):\n",
    "         return len(self.images)\n",
    "\n",
    "\n",
    "    def __getitem__(self, index):\n",
    "        img_path = os.path.join(self.image_dir, self.images[index])\n",
    "        data = dcmread(img_path)\n",
    "        image = np.array(data.pixel_array).astype('float32')\n",
    "        # Conversio to HU\n",
    "        intercept = int(data.RescaleIntercept)\n",
    "        slope = int(data.RescaleSlope)\n",
    "        image = (slope * image) + intercept\n",
    "        image = normalize(image)\n",
    "        return self.transform(image)"
   ]
  },
  {
   "cell_type": "code",
   "execution_count": 9,
   "id": "3f6c1db3",
   "metadata": {},
   "outputs": [],
   "source": [
    "\"\"\" Training of ProGAN using WGAN-GP loss\"\"\"\n",
    "\n",
    "torch.backends.cudnn.benchmarks = True\n",
    "\n",
    "class RandomRotationTransform:\n",
    "    \"\"\"Rotate by one of the given angles.\"\"\"\n",
    "\n",
    "    def __init__(self, angles):\n",
    "        self.angles = angles\n",
    "\n",
    "    def __call__(self, x):\n",
    "        angle = random.choice(self.angles)\n",
    "        return transforms.functional.rotate(x, angle)\n",
    "\n",
    "def get_loader(image_size):\n",
    "    transform = transforms.Compose(\n",
    "        [\n",
    "            transforms.ToPILImage(),\n",
    "            transforms.Resize((image_size, image_size)),\n",
    "            transforms.ToTensor(),\n",
    "            transforms.RandomHorizontalFlip(p=.5),\n",
    "#             transforms.RandomApply([transforms.CenterCrop(int(image_size * .9))], p=.3),\n",
    "#             transforms.RandomApply([transforms.GaussianBlur(kernel_size=3, sigma=(1,2))], p=.3),\n",
    "#             transforms.Resize((image_size, image_size)),\n",
    "            RandomRotationTransform(angles=[90,270, 0, 0, 0]),\n",
    "            transforms.Normalize(\n",
    "                [0.5 for _ in range(CHANNELS_IMG)],\n",
    "                [0.5 for _ in range(CHANNELS_IMG)],\n",
    "            ),\n",
    "        ]\n",
    "    )\n",
    "\n",
    "    batch_size = BATCH_SIZES[int(log2(image_size / 4))]\n",
    "    dataset = LungNoduleDataset(image_dir=TRAIN_DIR, transform=transform)\n",
    "    loader = DataLoader(\n",
    "        dataset,\n",
    "        batch_size=batch_size,\n",
    "        shuffle=True,\n",
    "        num_workers=NUM_WORKERS,\n",
    "        pin_memory=True,\n",
    "    )\n",
    "    return loader, dataset"
   ]
  },
  {
   "cell_type": "code",
   "execution_count": 10,
   "id": "284e1b4a",
   "metadata": {},
   "outputs": [
    {
     "name": "stdout",
     "output_type": "stream",
     "text": [
      "Dataset Size: 3263\n",
      "Number of batches: 102\n"
     ]
    },
    {
     "data": {
      "image/png": "[encoded data removed]",
      "text/plain": [
       "<Figure size 1152x432 with 7 Axes>"
      ]
     },
     "metadata": {
      "needs_background": "light"
     },
     "output_type": "display_data"
    }
   ],
   "source": [
    "loader, dataset = get_loader(64)\n",
    "indexes = random.sample(range(0, len(dataset)), 7)\n",
    "\n",
    "# print(f'Index: {idx}')\n",
    "# print(f\"Shape: {image.shape} \\nMin: {image.min()} \\nMax: {image.max()}\")\n",
    "print(f\"Dataset Size: {len(dataset)}\")\n",
    "print(f\"Number of batches: {len(loader)}\")\n",
    "fig, ax = plt.subplots(1,7, figsize=(16,6))\n",
    "for i in range(7):\n",
    "    image = dataset[indexes[i]][0].cpu().detach().numpy()\n",
    "    ax[i].imshow(image)\n",
    "plt.show()"
   ]
  },
  {
   "cell_type": "markdown",
   "id": "01d869df",
   "metadata": {},
   "source": [
    "## Training"
   ]
  },
  {
   "cell_type": "code",
   "execution_count": 11,
   "id": "0b1e699a",
   "metadata": {
    "scrolled": true
   },
   "outputs": [],
   "source": [
    "def train_fn(\n",
    "    critic,\n",
    "    gen,\n",
    "    loader,\n",
    "    dataset,\n",
    "    step,\n",
    "    alpha,\n",
    "    opt_critic,\n",
    "    opt_gen,\n",
    "    tensorboard_step,\n",
    "    writer,\n",
    "    scaler_gen,\n",
    "    scaler_critic,\n",
    "    lr,\n",
    "):\n",
    "    loop = tqdm(loader, leave=True)\n",
    "    for batch_idx, real in enumerate(loop):\n",
    "        real = real.to(DEVICE)\n",
    "        cur_batch_size = real.shape[0]\n",
    "        cur_res = real.shape[2]\n",
    "\n",
    "        # Train Critic: max E[critic(real)] - E[critic(fake)] <-> min -E[critic(real)] + E[critic(fake)]\n",
    "        # which is equivalent to minimizing the negative of the expression\n",
    "        noise = torch.randn(cur_batch_size, Z_DIM, 1, 1).to(DEVICE)\n",
    "\n",
    "        with torch.cuda.amp.autocast():\n",
    "            fake = gen(noise, alpha, step)\n",
    "            critic_real = critic(real, alpha, step)\n",
    "            critic_fake = critic(fake.detach(), alpha, step)\n",
    "            gp = gradient_penalty(critic, real, fake, alpha, step, device=DEVICE)\n",
    "            loss_critic = (\n",
    "                -(torch.mean(critic_real) - torch.mean(critic_fake))\n",
    "                + LAMBDA_GP * gp\n",
    "                + (0.001 * torch.mean(critic_real ** 2))\n",
    "            )\n",
    "\n",
    "        opt_critic.zero_grad()\n",
    "        scaler_critic.scale(loss_critic).backward()\n",
    "        scaler_critic.step(opt_critic)\n",
    "        scaler_critic.update()\n",
    "\n",
    "        # Train Generator: max E[critic(gen_fake)] <-> min -E[critic(gen_fake)]\n",
    "        with torch.cuda.amp.autocast():\n",
    "            gen_fake = critic(fake, alpha, step)\n",
    "            loss_gen = -torch.mean(gen_fake)\n",
    "\n",
    "        opt_gen.zero_grad()\n",
    "        scaler_gen.scale(loss_gen).backward()\n",
    "        scaler_gen.step(opt_gen)\n",
    "        scaler_gen.update()\n",
    "\n",
    "        # Update alpha and ensure less than 1\n",
    "        alpha += cur_batch_size / (\n",
    "            (PROGRESSIVE_EPOCHS[step] * ALPHA_MUL) * len(dataset)\n",
    "        )\n",
    "        alpha = min(alpha, 1)\n",
    "\n",
    "        if batch_idx % 500 == 0:\n",
    "            with torch.no_grad():\n",
    "                fixed_fakes = gen(FIXED_NOISE, alpha, step) * 0.5 + 0.5\n",
    "\n",
    "            plot_to_tensorboard(\n",
    "                writer,\n",
    "                loss_critic.item(),\n",
    "                loss_gen.item(),\n",
    "                real.detach(),\n",
    "                fixed_fakes.detach(),\n",
    "                cur_res,\n",
    "                lr,\n",
    "                tensorboard_step,\n",
    "            )\n",
    "            tensorboard_step += 1\n",
    "        if tensorboard_step % 15 == 0:  \n",
    "            img_grid_fake = torchvision.utils.make_grid(fixed_fakes.detach()[:16], normalize=True)\n",
    "            save_image(img_grid_fake.float(), f'gan_fakes/{MODEL_NAME}/step_{step}_{tensorboard_step}_grid.png')\n",
    "\n",
    "        loop.set_postfix(\n",
    "            gp=gp.item(),\n",
    "            loss_critic=loss_critic.item(),\n",
    "        )\n",
    "\n",
    "    return tensorboard_step, alpha\n",
    "\n",
    "\n",
    "def main():\n",
    "    gen = Generator(\n",
    "        Z_DIM, IN_CHANNELS, img_channels=CHANNELS_IMG\n",
    "    ).to(DEVICE)\n",
    "    critic = Discriminator(\n",
    "        Z_DIM, IN_CHANNELS, img_channels=CHANNELS_IMG\n",
    "    ).to(DEVICE)\n",
    "    \n",
    "    # initialize optimizers and scalers for FP16 training\n",
    "    lr=LEARNING_RATE\n",
    "    opt_gen = optim.Adam(gen.parameters(), lr=lr, betas=(0.0, 0.99))\n",
    "    opt_critic = optim.Adam(critic.parameters(), lr=lr, betas=(0.0, 0.99))\n",
    "    scaler_critic = torch.cuda.amp.GradScaler()\n",
    "    scaler_gen = torch.cuda.amp.GradScaler()\n",
    "    os.makedirs(os.path.dirname(f\"gan_fakes/{MODEL_NAME}/\"), exist_ok=True)\n",
    "\n",
    "    # for tensorboard plotting\n",
    "    writer = SummaryWriter(f\"logs/{MODEL_NAME}\")\n",
    "    print(f\"Model name: {MODEL_NAME}\")\n",
    "\n",
    "    if LOAD_MODEL:\n",
    "        load_checkpoint(\n",
    "            CHECKPOINT_GEN, gen, opt_gen, lr,\n",
    "        )\n",
    "        load_checkpoint(\n",
    "            CHECKPOINT_CRITIC, critic, opt_critic, lr,\n",
    "        )\n",
    "\n",
    "    gen.train()\n",
    "    critic.train()\n",
    "\n",
    "    tensorboard_step = 0\n",
    "    # start at step that corresponds to img size that we set in config\n",
    "    step = int(log2(START_TRAIN_AT_IMG_SIZE / 4))\n",
    "    start = time.time()\n",
    "    global_epoch = 0\n",
    "    print('Started training...')\n",
    "    for num_epochs in PROGRESSIVE_EPOCHS[step:int(log2(MAX_RES / 2))]:\n",
    "        alpha = 1e-5  # start with very low alpha\n",
    "        loader, dataset = get_loader(4 * 2 ** step)  # 4->0, 8->1, 16->2, 32->3, 64->4, ...\n",
    "\n",
    "        for epoch in range(num_epochs):\n",
    "            epoch_start = time.time()\n",
    "            tensorboard_step, alpha = train_fn(\n",
    "                critic,\n",
    "                gen,\n",
    "                loader,\n",
    "                dataset,\n",
    "                step,\n",
    "                alpha,\n",
    "                opt_critic,\n",
    "                opt_gen,\n",
    "                tensorboard_step,\n",
    "                writer,\n",
    "                scaler_gen,\n",
    "                scaler_critic,\n",
    "                lr,\n",
    "            )\n",
    "            global_epoch += 1\n",
    "            epoch_end = time.time()\n",
    "            training_time = str(datetime.timedelta(seconds= epoch_end - epoch_start))\n",
    "            print(f\"Epoch [{epoch+1}/{num_epochs}] Global Epoch:{global_epoch} - Epoch training time: {training_time} - Current image size: {4 * 2 ** step} \")\n",
    "        step += 1  # progress to the next img size\n",
    "        # Update learning rate\n",
    "        if LEARNING_RATE_DECAY:\n",
    "            lr *= float(LEARNING_RATE_DECAY)\n",
    "            opt_gen = optim.Adam(gen.parameters(), lr=lr, betas=(0.0, 0.99))\n",
    "            opt_critic = optim.Adam(critic.parameters(), lr=lr, betas=(0.0, 0.99))\n",
    "        if SAVE_MODEL:\n",
    "            save_checkpoint(gen, opt_gen, filename=CHECKPOINT_GEN)\n",
    "            save_checkpoint(critic, opt_critic, filename=CHECKPOINT_CRITIC)\n",
    "    end = time.time()\n",
    "    training_time = str(datetime.timedelta(seconds= end - start))\n",
    "    print(f\"Trainig duration: {training_time}\")\n",
    "    return training_time"
   ]
  },
  {
   "cell_type": "code",
   "execution_count": null,
   "id": "b904572a",
   "metadata": {
    "scrolled": true
   },
   "outputs": [
    {
     "name": "stdout",
     "output_type": "stream",
     "text": [
      "Training for squamous\n",
      "Model name: pggan_roi_squamous_epochs_30_30_50_50_75_alpha_0.75_bs_64_64_64_32_32_affn_trns_only\n",
      "Started training...\n"
     ]
    },
    {
     "name": "stderr",
     "output_type": "stream",
     "text": [
      "100%|██████████| 67/67 [00:02<00:00, 28.80it/s, gp=0.08, loss_critic=-.991]  \n"
     ]
    },
    {
     "name": "stdout",
     "output_type": "stream",
     "text": [
      "Epoch [1/30] Global Epoch:1 - Epoch training time: 0:00:02.328034 - Current image size: 4 \n"
     ]
    },
    {
     "name": "stderr",
     "output_type": "stream",
     "text": [
      "100%|██████████| 67/67 [00:02<00:00, 30.79it/s, gp=0.0292, loss_critic=-.467]\n"
     ]
    },
    {
     "name": "stdout",
     "output_type": "stream",
     "text": [
      "Epoch [2/30] Global Epoch:2 - Epoch training time: 0:00:02.178135 - Current image size: 4 \n"
     ]
    },
    {
     "name": "stderr",
     "output_type": "stream",
     "text": [
      "100%|██████████| 67/67 [00:02<00:00, 29.91it/s, gp=0.0171, loss_critic=-.355]\n"
     ]
    },
    {
     "name": "stdout",
     "output_type": "stream",
     "text": [
      "Epoch [3/30] Global Epoch:3 - Epoch training time: 0:00:02.241909 - Current image size: 4 \n"
     ]
    },
    {
     "name": "stderr",
     "output_type": "stream",
     "text": [
      "100%|██████████| 67/67 [00:02<00:00, 28.33it/s, gp=0.0176, loss_critic=-.112] \n"
     ]
    },
    {
     "name": "stdout",
     "output_type": "stream",
     "text": [
      "Epoch [4/30] Global Epoch:4 - Epoch training time: 0:00:02.366845 - Current image size: 4 \n"
     ]
    },
    {
     "name": "stderr",
     "output_type": "stream",
     "text": [
      "100%|██████████| 67/67 [00:02<00:00, 30.28it/s, gp=0.0273, loss_critic=0.111]  \n"
     ]
    },
    {
     "name": "stdout",
     "output_type": "stream",
     "text": [
      "Epoch [5/30] Global Epoch:5 - Epoch training time: 0:00:02.214879 - Current image size: 4 \n"
     ]
    },
    {
     "name": "stderr",
     "output_type": "stream",
     "text": [
      "100%|██████████| 67/67 [00:02<00:00, 31.27it/s, gp=0.0185, loss_critic=0.0106] \n"
     ]
    },
    {
     "name": "stdout",
     "output_type": "stream",
     "text": [
      "Epoch [6/30] Global Epoch:6 - Epoch training time: 0:00:02.144611 - Current image size: 4 \n"
     ]
    },
    {
     "name": "stderr",
     "output_type": "stream",
     "text": [
      "100%|██████████| 67/67 [00:02<00:00, 29.17it/s, gp=0.0212, loss_critic=0.094]  \n"
     ]
    },
    {
     "name": "stdout",
     "output_type": "stream",
     "text": [
      "Epoch [7/30] Global Epoch:7 - Epoch training time: 0:00:02.298801 - Current image size: 4 \n"
     ]
    },
    {
     "name": "stderr",
     "output_type": "stream",
     "text": [
      "100%|██████████| 67/67 [00:02<00:00, 30.19it/s, gp=0.0172, loss_critic=0.0246]  \n"
     ]
    },
    {
     "name": "stdout",
     "output_type": "stream",
     "text": [
      "Epoch [8/30] Global Epoch:8 - Epoch training time: 0:00:02.220987 - Current image size: 4 \n"
     ]
    },
    {
     "name": "stderr",
     "output_type": "stream",
     "text": [
      "100%|██████████| 67/67 [00:02<00:00, 30.98it/s, gp=0.0192, loss_critic=0.00404]\n"
     ]
    },
    {
     "name": "stdout",
     "output_type": "stream",
     "text": [
      "Epoch [9/30] Global Epoch:9 - Epoch training time: 0:00:02.164690 - Current image size: 4 \n"
     ]
    },
    {
     "name": "stderr",
     "output_type": "stream",
     "text": [
      "100%|██████████| 67/67 [00:02<00:00, 30.22it/s, gp=0.0148, loss_critic=0.00628]\n"
     ]
    },
    {
     "name": "stdout",
     "output_type": "stream",
     "text": [
      "Epoch [10/30] Global Epoch:10 - Epoch training time: 0:00:02.218849 - Current image size: 4 \n"
     ]
    },
    {
     "name": "stderr",
     "output_type": "stream",
     "text": [
      "100%|██████████| 67/67 [00:02<00:00, 30.69it/s, gp=0.0333, loss_critic=0.12]   \n"
     ]
    },
    {
     "name": "stdout",
     "output_type": "stream",
     "text": [
      "Epoch [11/30] Global Epoch:11 - Epoch training time: 0:00:02.185166 - Current image size: 4 \n"
     ]
    },
    {
     "name": "stderr",
     "output_type": "stream",
     "text": [
      "100%|██████████| 67/67 [00:02<00:00, 29.36it/s, gp=0.0188, loss_critic=-.071]  \n"
     ]
    },
    {
     "name": "stdout",
     "output_type": "stream",
     "text": [
      "Epoch [12/30] Global Epoch:12 - Epoch training time: 0:00:02.283916 - Current image size: 4 \n"
     ]
    },
    {
     "name": "stderr",
     "output_type": "stream",
     "text": [
      "100%|██████████| 67/67 [00:02<00:00, 29.51it/s, gp=0.0153, loss_critic=-.00666] \n"
     ]
    },
    {
     "name": "stdout",
     "output_type": "stream",
     "text": [
      "Epoch [13/30] Global Epoch:13 - Epoch training time: 0:00:02.272086 - Current image size: 4 \n"
     ]
    },
    {
     "name": "stderr",
     "output_type": "stream",
     "text": [
      "100%|██████████| 67/67 [00:02<00:00, 30.22it/s, gp=0.0127, loss_critic=0.0111] \n"
     ]
    },
    {
     "name": "stdout",
     "output_type": "stream",
     "text": [
      "Epoch [14/30] Global Epoch:14 - Epoch training time: 0:00:02.218954 - Current image size: 4 \n"
     ]
    },
    {
     "name": "stderr",
     "output_type": "stream",
     "text": [
      "100%|██████████| 67/67 [00:02<00:00, 29.66it/s, gp=0.0104, loss_critic=-.0872]  \n"
     ]
    },
    {
     "name": "stdout",
     "output_type": "stream",
     "text": [
      "Epoch [15/30] Global Epoch:15 - Epoch training time: 0:00:02.261684 - Current image size: 4 \n"
     ]
    },
    {
     "name": "stderr",
     "output_type": "stream",
     "text": [
      "100%|██████████| 67/67 [00:02<00:00, 30.15it/s, gp=0.0164, loss_critic=-.0494] \n"
     ]
    },
    {
     "name": "stdout",
     "output_type": "stream",
     "text": [
      "Epoch [16/30] Global Epoch:16 - Epoch training time: 0:00:02.224393 - Current image size: 4 \n"
     ]
    },
    {
     "name": "stderr",
     "output_type": "stream",
     "text": [
      "100%|██████████| 67/67 [00:02<00:00, 30.30it/s, gp=0.0182, loss_critic=-.0438] \n"
     ]
    },
    {
     "name": "stdout",
     "output_type": "stream",
     "text": [
      "Epoch [17/30] Global Epoch:17 - Epoch training time: 0:00:02.213128 - Current image size: 4 \n"
     ]
    },
    {
     "name": "stderr",
     "output_type": "stream",
     "text": [
      "100%|██████████| 67/67 [00:02<00:00, 29.04it/s, gp=0.0155, loss_critic=-.0196] \n"
     ]
    },
    {
     "name": "stdout",
     "output_type": "stream",
     "text": [
      "Epoch [18/30] Global Epoch:18 - Epoch training time: 0:00:02.309267 - Current image size: 4 \n"
     ]
    },
    {
     "name": "stderr",
     "output_type": "stream",
     "text": [
      "100%|██████████| 67/67 [00:02<00:00, 28.95it/s, gp=0.0168, loss_critic=0.00638]\n"
     ]
    },
    {
     "name": "stdout",
     "output_type": "stream",
     "text": [
      "Epoch [19/30] Global Epoch:19 - Epoch training time: 0:00:02.315923 - Current image size: 4 \n"
     ]
    },
    {
     "name": "stderr",
     "output_type": "stream",
     "text": [
      "100%|██████████| 67/67 [00:02<00:00, 28.71it/s, gp=0.0393, loss_critic=0.297]  \n"
     ]
    },
    {
     "name": "stdout",
     "output_type": "stream",
     "text": [
      "Epoch [20/30] Global Epoch:20 - Epoch training time: 0:00:02.335834 - Current image size: 4 \n"
     ]
    },
    {
     "name": "stderr",
     "output_type": "stream",
     "text": [
      "100%|██████████| 67/67 [00:02<00:00, 30.13it/s, gp=0.00829, loss_critic=-.0066]\n"
     ]
    },
    {
     "name": "stdout",
     "output_type": "stream",
     "text": [
      "Epoch [21/30] Global Epoch:21 - Epoch training time: 0:00:02.225828 - Current image size: 4 \n"
     ]
    },
    {
     "name": "stderr",
     "output_type": "stream",
     "text": [
      "100%|██████████| 67/67 [00:02<00:00, 29.95it/s, gp=0.00498, loss_critic=-.0315]  \n"
     ]
    },
    {
     "name": "stdout",
     "output_type": "stream",
     "text": [
      "Epoch [22/30] Global Epoch:22 - Epoch training time: 0:00:02.239397 - Current image size: 4 \n"
     ]
    },
    {
     "name": "stderr",
     "output_type": "stream",
     "text": [
      "100%|██████████| 67/67 [00:02<00:00, 30.72it/s, gp=0.0107, loss_critic=0.034]   \n"
     ]
    },
    {
     "name": "stdout",
     "output_type": "stream",
     "text": [
      "Epoch [23/30] Global Epoch:23 - Epoch training time: 0:00:02.182611 - Current image size: 4 \n"
     ]
    },
    {
     "name": "stderr",
     "output_type": "stream",
     "text": [
      "100%|██████████| 67/67 [00:02<00:00, 30.52it/s, gp=0.0101, loss_critic=0.0467]  \n"
     ]
    },
    {
     "name": "stdout",
     "output_type": "stream",
     "text": [
      "Epoch [24/30] Global Epoch:24 - Epoch training time: 0:00:02.197056 - Current image size: 4 \n"
     ]
    },
    {
     "name": "stderr",
     "output_type": "stream",
     "text": [
      "100%|██████████| 67/67 [00:02<00:00, 30.84it/s, gp=0.00629, loss_critic=0.0178] \n"
     ]
    },
    {
     "name": "stdout",
     "output_type": "stream",
     "text": [
      "Epoch [25/30] Global Epoch:25 - Epoch training time: 0:00:02.174687 - Current image size: 4 \n"
     ]
    },
    {
     "name": "stderr",
     "output_type": "stream",
     "text": [
      "100%|██████████| 67/67 [00:02<00:00, 29.40it/s, gp=0.018, loss_critic=0.157]     \n"
     ]
    },
    {
     "name": "stdout",
     "output_type": "stream",
     "text": [
      "Epoch [26/30] Global Epoch:26 - Epoch training time: 0:00:02.281174 - Current image size: 4 \n"
     ]
    },
    {
     "name": "stderr",
     "output_type": "stream",
     "text": [
      "100%|██████████| 67/67 [00:02<00:00, 30.67it/s, gp=0.0128, loss_critic=0.173]  \n"
     ]
    },
    {
     "name": "stdout",
     "output_type": "stream",
     "text": [
      "Epoch [27/30] Global Epoch:27 - Epoch training time: 0:00:02.186487 - Current image size: 4 \n"
     ]
    },
    {
     "name": "stderr",
     "output_type": "stream",
     "text": [
      "100%|██████████| 67/67 [00:02<00:00, 30.69it/s, gp=0.0144, loss_critic=0.103]   \n"
     ]
    },
    {
     "name": "stdout",
     "output_type": "stream",
     "text": [
      "Epoch [28/30] Global Epoch:28 - Epoch training time: 0:00:02.184823 - Current image size: 4 \n"
     ]
    },
    {
     "name": "stderr",
     "output_type": "stream",
     "text": [
      "100%|██████████| 67/67 [00:02<00:00, 30.35it/s, gp=0.0191, loss_critic=0.232]  \n"
     ]
    },
    {
     "name": "stdout",
     "output_type": "stream",
     "text": [
      "Epoch [29/30] Global Epoch:29 - Epoch training time: 0:00:02.209306 - Current image size: 4 \n"
     ]
    },
    {
     "name": "stderr",
     "output_type": "stream",
     "text": [
      "100%|██████████| 67/67 [00:02<00:00, 31.00it/s, gp=0.0143, loss_critic=0.111]  \n"
     ]
    },
    {
     "name": "stdout",
     "output_type": "stream",
     "text": [
      "Epoch [30/30] Global Epoch:30 - Epoch training time: 0:00:02.163429 - Current image size: 4 \n",
      "=> Saving checkpoint\n",
      "=> Saving checkpoint\n"
     ]
    },
    {
     "name": "stderr",
     "output_type": "stream",
     "text": [
      "100%|██████████| 67/67 [00:05<00:00, 11.80it/s, gp=0.00616, loss_critic=-.158] \n"
     ]
    },
    {
     "name": "stdout",
     "output_type": "stream",
     "text": [
      "Epoch [1/30] Global Epoch:31 - Epoch training time: 0:00:05.678271 - Current image size: 8 \n"
     ]
    },
    {
     "name": "stderr",
     "output_type": "stream",
     "text": [
      "100%|██████████| 67/67 [00:05<00:00, 11.76it/s, gp=0.00597, loss_critic=-.253] \n"
     ]
    },
    {
     "name": "stdout",
     "output_type": "stream",
     "text": [
      "Epoch [2/30] Global Epoch:32 - Epoch training time: 0:00:05.699155 - Current image size: 8 \n"
     ]
    },
    {
     "name": "stderr",
     "output_type": "stream",
     "text": [
      "100%|██████████| 67/67 [00:05<00:00, 11.78it/s, gp=0.0228, loss_critic=-.0106] \n"
     ]
    },
    {
     "name": "stdout",
     "output_type": "stream",
     "text": [
      "Epoch [3/30] Global Epoch:33 - Epoch training time: 0:00:05.690387 - Current image size: 8 \n"
     ]
    },
    {
     "name": "stderr",
     "output_type": "stream",
     "text": [
      "100%|██████████| 67/67 [00:05<00:00, 11.71it/s, gp=0.00649, loss_critic=-.318] \n"
     ]
    },
    {
     "name": "stdout",
     "output_type": "stream",
     "text": [
      "Epoch [4/30] Global Epoch:34 - Epoch training time: 0:00:05.725989 - Current image size: 8 \n"
     ]
    },
    {
     "name": "stderr",
     "output_type": "stream",
     "text": [
      "100%|██████████| 67/67 [00:05<00:00, 11.67it/s, gp=0.00554, loss_critic=-.147] \n"
     ]
    },
    {
     "name": "stdout",
     "output_type": "stream",
     "text": [
      "Epoch [5/30] Global Epoch:35 - Epoch training time: 0:00:05.741233 - Current image size: 8 \n"
     ]
    },
    {
     "name": "stderr",
     "output_type": "stream",
     "text": [
      "100%|██████████| 67/67 [00:05<00:00, 11.77it/s, gp=0.0105, loss_critic=-.0853]  \n"
     ]
    },
    {
     "name": "stdout",
     "output_type": "stream",
     "text": [
      "Epoch [6/30] Global Epoch:36 - Epoch training time: 0:00:05.692931 - Current image size: 8 \n"
     ]
    },
    {
     "name": "stderr",
     "output_type": "stream",
     "text": [
      "100%|██████████| 67/67 [00:05<00:00, 11.75it/s, gp=0.0217, loss_critic=0.0443]  \n"
     ]
    },
    {
     "name": "stdout",
     "output_type": "stream",
     "text": [
      "Epoch [7/30] Global Epoch:37 - Epoch training time: 0:00:05.703635 - Current image size: 8 \n"
     ]
    },
    {
     "name": "stderr",
     "output_type": "stream",
     "text": [
      "100%|██████████| 67/67 [00:05<00:00, 11.77it/s, gp=0.00908, loss_critic=0.017]   \n"
     ]
    },
    {
     "name": "stdout",
     "output_type": "stream",
     "text": [
      "Epoch [8/30] Global Epoch:38 - Epoch training time: 0:00:05.694604 - Current image size: 8 \n"
     ]
    },
    {
     "name": "stderr",
     "output_type": "stream",
     "text": [
      "100%|██████████| 67/67 [00:05<00:00, 11.73it/s, gp=0.0197, loss_critic=0.0221]  \n"
     ]
    },
    {
     "name": "stdout",
     "output_type": "stream",
     "text": [
      "Epoch [9/30] Global Epoch:39 - Epoch training time: 0:00:05.711835 - Current image size: 8 \n"
     ]
    },
    {
     "name": "stderr",
     "output_type": "stream",
     "text": [
      "100%|██████████| 67/67 [00:05<00:00, 11.75it/s, gp=0.0123, loss_critic=-.0897]  \n"
     ]
    },
    {
     "name": "stdout",
     "output_type": "stream",
     "text": [
      "Epoch [10/30] Global Epoch:40 - Epoch training time: 0:00:05.705930 - Current image size: 8 \n"
     ]
    },
    {
     "name": "stderr",
     "output_type": "stream",
     "text": [
      "100%|██████████| 67/67 [00:05<00:00, 11.67it/s, gp=0.00696, loss_critic=0.0721]\n"
     ]
    },
    {
     "name": "stdout",
     "output_type": "stream",
     "text": [
      "Epoch [11/30] Global Epoch:41 - Epoch training time: 0:00:05.742115 - Current image size: 8 \n"
     ]
    },
    {
     "name": "stderr",
     "output_type": "stream",
     "text": [
      "100%|██████████| 67/67 [00:05<00:00, 11.76it/s, gp=0.0246, loss_critic=0.365]   \n"
     ]
    },
    {
     "name": "stdout",
     "output_type": "stream",
     "text": [
      "Epoch [12/30] Global Epoch:42 - Epoch training time: 0:00:05.700005 - Current image size: 8 \n"
     ]
    },
    {
     "name": "stderr",
     "output_type": "stream",
     "text": [
      "100%|██████████| 67/67 [00:05<00:00, 11.66it/s, gp=0.0053, loss_critic=-.0539]  \n"
     ]
    },
    {
     "name": "stdout",
     "output_type": "stream",
     "text": [
      "Epoch [13/30] Global Epoch:43 - Epoch training time: 0:00:05.748348 - Current image size: 8 \n"
     ]
    },
    {
     "name": "stderr",
     "output_type": "stream",
     "text": [
      "100%|██████████| 67/67 [00:05<00:00, 11.78it/s, gp=0.00773, loss_critic=0.133]  \n"
     ]
    },
    {
     "name": "stdout",
     "output_type": "stream",
     "text": [
      "Epoch [14/30] Global Epoch:44 - Epoch training time: 0:00:05.691555 - Current image size: 8 \n"
     ]
    },
    {
     "name": "stderr",
     "output_type": "stream",
     "text": [
      "100%|██████████| 67/67 [00:05<00:00, 11.63it/s, gp=0.0124, loss_critic=0.0304]  \n"
     ]
    },
    {
     "name": "stdout",
     "output_type": "stream",
     "text": [
      "Epoch [15/30] Global Epoch:45 - Epoch training time: 0:00:05.763044 - Current image size: 8 \n"
     ]
    },
    {
     "name": "stderr",
     "output_type": "stream",
     "text": [
      "100%|██████████| 67/67 [00:05<00:00, 11.75it/s, gp=0.00808, loss_critic=-.00133]\n"
     ]
    },
    {
     "name": "stdout",
     "output_type": "stream",
     "text": [
      "Epoch [16/30] Global Epoch:46 - Epoch training time: 0:00:05.702299 - Current image size: 8 \n"
     ]
    },
    {
     "name": "stderr",
     "output_type": "stream",
     "text": [
      "100%|██████████| 67/67 [00:05<00:00, 11.76it/s, gp=0.0124, loss_critic=0.0412]   \n"
     ]
    },
    {
     "name": "stdout",
     "output_type": "stream",
     "text": [
      "Epoch [17/30] Global Epoch:47 - Epoch training time: 0:00:05.700810 - Current image size: 8 \n"
     ]
    },
    {
     "name": "stderr",
     "output_type": "stream",
     "text": [
      "100%|██████████| 67/67 [00:05<00:00, 11.76it/s, gp=0.00683, loss_critic=-.0498]  \n"
     ]
    },
    {
     "name": "stdout",
     "output_type": "stream",
     "text": [
      "Epoch [18/30] Global Epoch:48 - Epoch training time: 0:00:05.701473 - Current image size: 8 \n"
     ]
    },
    {
     "name": "stderr",
     "output_type": "stream",
     "text": [
      "100%|██████████| 67/67 [00:05<00:00, 11.80it/s, gp=0.00721, loss_critic=0.008]   \n"
     ]
    },
    {
     "name": "stdout",
     "output_type": "stream",
     "text": [
      "Epoch [19/30] Global Epoch:49 - Epoch training time: 0:00:05.680068 - Current image size: 8 \n"
     ]
    },
    {
     "name": "stderr",
     "output_type": "stream",
     "text": [
      "100%|██████████| 67/67 [00:05<00:00, 11.73it/s, gp=0.00595, loss_critic=-.0428] \n"
     ]
    },
    {
     "name": "stdout",
     "output_type": "stream",
     "text": [
      "Epoch [20/30] Global Epoch:50 - Epoch training time: 0:00:05.714987 - Current image size: 8 \n"
     ]
    },
    {
     "name": "stderr",
     "output_type": "stream",
     "text": [
      "100%|██████████| 67/67 [00:05<00:00, 11.75it/s, gp=0.0136, loss_critic=0.122]    \n"
     ]
    },
    {
     "name": "stdout",
     "output_type": "stream",
     "text": [
      "Epoch [21/30] Global Epoch:51 - Epoch training time: 0:00:05.702732 - Current image size: 8 \n"
     ]
    },
    {
     "name": "stderr",
     "output_type": "stream",
     "text": [
      "100%|██████████| 67/67 [00:05<00:00, 11.74it/s, gp=0.00652, loss_critic=0.00671]\n"
     ]
    },
    {
     "name": "stdout",
     "output_type": "stream",
     "text": [
      "Epoch [22/30] Global Epoch:52 - Epoch training time: 0:00:05.706813 - Current image size: 8 \n"
     ]
    },
    {
     "name": "stderr",
     "output_type": "stream",
     "text": [
      "100%|██████████| 67/67 [00:05<00:00, 11.76it/s, gp=0.0129, loss_critic=0.03]     \n"
     ]
    },
    {
     "name": "stdout",
     "output_type": "stream",
     "text": [
      "Epoch [23/30] Global Epoch:53 - Epoch training time: 0:00:05.699539 - Current image size: 8 \n"
     ]
    },
    {
     "name": "stderr",
     "output_type": "stream",
     "text": [
      "100%|██████████| 67/67 [00:05<00:00, 11.74it/s, gp=0.0114, loss_critic=0.137]   \n"
     ]
    },
    {
     "name": "stdout",
     "output_type": "stream",
     "text": [
      "Epoch [24/30] Global Epoch:54 - Epoch training time: 0:00:05.708884 - Current image size: 8 \n"
     ]
    },
    {
     "name": "stderr",
     "output_type": "stream",
     "text": [
      "100%|██████████| 67/67 [00:05<00:00, 11.78it/s, gp=0.0104, loss_critic=0.138]    \n"
     ]
    },
    {
     "name": "stdout",
     "output_type": "stream",
     "text": [
      "Epoch [25/30] Global Epoch:55 - Epoch training time: 0:00:05.691362 - Current image size: 8 \n"
     ]
    },
    {
     "name": "stderr",
     "output_type": "stream",
     "text": [
      "100%|██████████| 67/67 [00:05<00:00, 11.75it/s, gp=0.0124, loss_critic=0.147]    \n"
     ]
    },
    {
     "name": "stdout",
     "output_type": "stream",
     "text": [
      "Epoch [26/30] Global Epoch:56 - Epoch training time: 0:00:05.705559 - Current image size: 8 \n"
     ]
    },
    {
     "name": "stderr",
     "output_type": "stream",
     "text": [
      "100%|██████████| 67/67 [00:05<00:00, 11.76it/s, gp=0.00745, loss_critic=0.00444]\n"
     ]
    },
    {
     "name": "stdout",
     "output_type": "stream",
     "text": [
      "Epoch [27/30] Global Epoch:57 - Epoch training time: 0:00:05.700789 - Current image size: 8 \n"
     ]
    },
    {
     "name": "stderr",
     "output_type": "stream",
     "text": [
      "100%|██████████| 67/67 [00:05<00:00, 11.77it/s, gp=0.00517, loss_critic=0.0559] \n"
     ]
    },
    {
     "name": "stdout",
     "output_type": "stream",
     "text": [
      "Epoch [28/30] Global Epoch:58 - Epoch training time: 0:00:05.695158 - Current image size: 8 \n"
     ]
    },
    {
     "name": "stderr",
     "output_type": "stream",
     "text": [
      "100%|██████████| 67/67 [00:05<00:00, 11.72it/s, gp=0.00758, loss_critic=0.101]   \n"
     ]
    },
    {
     "name": "stdout",
     "output_type": "stream",
     "text": [
      "Epoch [29/30] Global Epoch:59 - Epoch training time: 0:00:05.717948 - Current image size: 8 \n"
     ]
    },
    {
     "name": "stderr",
     "output_type": "stream",
     "text": [
      "100%|██████████| 67/67 [00:05<00:00, 11.66it/s, gp=0.0144, loss_critic=0.109]   \n"
     ]
    },
    {
     "name": "stdout",
     "output_type": "stream",
     "text": [
      "Epoch [30/30] Global Epoch:60 - Epoch training time: 0:00:05.749369 - Current image size: 8 \n",
      "=> Saving checkpoint\n",
      "=> Saving checkpoint\n"
     ]
    },
    {
     "name": "stderr",
     "output_type": "stream",
     "text": [
      "100%|██████████| 67/67 [00:18<00:00,  3.63it/s, gp=0.0106, loss_critic=0.139]  \n"
     ]
    },
    {
     "name": "stdout",
     "output_type": "stream",
     "text": [
      "Epoch [1/50] Global Epoch:61 - Epoch training time: 0:00:18.465981 - Current image size: 16 \n"
     ]
    },
    {
     "name": "stderr",
     "output_type": "stream",
     "text": [
      "100%|██████████| 67/67 [00:18<00:00,  3.62it/s, gp=0.00578, loss_critic=-.166]  \n"
     ]
    },
    {
     "name": "stdout",
     "output_type": "stream",
     "text": [
      "Epoch [2/50] Global Epoch:62 - Epoch training time: 0:00:18.534192 - Current image size: 16 \n"
     ]
    },
    {
     "name": "stderr",
     "output_type": "stream",
     "text": [
      "100%|██████████| 67/67 [00:18<00:00,  3.61it/s, gp=0.0083, loss_critic=-.114]  \n"
     ]
    },
    {
     "name": "stdout",
     "output_type": "stream",
     "text": [
      "Epoch [3/50] Global Epoch:63 - Epoch training time: 0:00:18.556006 - Current image size: 16 \n"
     ]
    },
    {
     "name": "stderr",
     "output_type": "stream",
     "text": [
      "100%|██████████| 67/67 [00:18<00:00,  3.60it/s, gp=0.0129, loss_critic=-.242]   \n"
     ]
    },
    {
     "name": "stdout",
     "output_type": "stream",
     "text": [
      "Epoch [4/50] Global Epoch:64 - Epoch training time: 0:00:18.595191 - Current image size: 16 \n"
     ]
    },
    {
     "name": "stderr",
     "output_type": "stream",
     "text": [
      "100%|██████████| 67/67 [00:18<00:00,  3.60it/s, gp=0.0109, loss_critic=-.0418] \n"
     ]
    },
    {
     "name": "stdout",
     "output_type": "stream",
     "text": [
      "Epoch [5/50] Global Epoch:65 - Epoch training time: 0:00:18.622851 - Current image size: 16 \n"
     ]
    },
    {
     "name": "stderr",
     "output_type": "stream",
     "text": [
      "100%|██████████| 67/67 [00:18<00:00,  3.60it/s, gp=0.011, loss_critic=-.22]     \n"
     ]
    },
    {
     "name": "stdout",
     "output_type": "stream",
     "text": [
      "Epoch [6/50] Global Epoch:66 - Epoch training time: 0:00:18.626701 - Current image size: 16 \n"
     ]
    },
    {
     "name": "stderr",
     "output_type": "stream",
     "text": [
      "100%|██████████| 67/67 [00:18<00:00,  3.60it/s, gp=0.0122, loss_critic=0.394]   \n"
     ]
    },
    {
     "name": "stdout",
     "output_type": "stream",
     "text": [
      "Epoch [7/50] Global Epoch:67 - Epoch training time: 0:00:18.629194 - Current image size: 16 \n"
     ]
    },
    {
     "name": "stderr",
     "output_type": "stream",
     "text": [
      "100%|██████████| 67/67 [00:18<00:00,  3.60it/s, gp=0.00591, loss_critic=-.199]  \n"
     ]
    },
    {
     "name": "stdout",
     "output_type": "stream",
     "text": [
      "Epoch [8/50] Global Epoch:68 - Epoch training time: 0:00:18.616118 - Current image size: 16 \n"
     ]
    },
    {
     "name": "stderr",
     "output_type": "stream",
     "text": [
      "100%|██████████| 67/67 [00:18<00:00,  3.60it/s, gp=0.00448, loss_critic=-.191]  \n"
     ]
    },
    {
     "name": "stdout",
     "output_type": "stream",
     "text": [
      "Epoch [9/50] Global Epoch:69 - Epoch training time: 0:00:18.594095 - Current image size: 16 \n"
     ]
    },
    {
     "name": "stderr",
     "output_type": "stream",
     "text": [
      "100%|██████████| 67/67 [00:18<00:00,  3.60it/s, gp=0.00711, loss_critic=-.12]   \n"
     ]
    },
    {
     "name": "stdout",
     "output_type": "stream",
     "text": [
      "Epoch [10/50] Global Epoch:70 - Epoch training time: 0:00:18.591790 - Current image size: 16 \n"
     ]
    },
    {
     "name": "stderr",
     "output_type": "stream",
     "text": [
      "100%|██████████| 67/67 [00:18<00:00,  3.60it/s, gp=0.00519, loss_critic=0.0536] \n"
     ]
    },
    {
     "name": "stdout",
     "output_type": "stream",
     "text": [
      "Epoch [11/50] Global Epoch:71 - Epoch training time: 0:00:18.588592 - Current image size: 16 \n"
     ]
    },
    {
     "name": "stderr",
     "output_type": "stream",
     "text": [
      "100%|██████████| 67/67 [00:18<00:00,  3.61it/s, gp=0.00784, loss_critic=-.346]  \n"
     ]
    },
    {
     "name": "stdout",
     "output_type": "stream",
     "text": [
      "Epoch [12/50] Global Epoch:72 - Epoch training time: 0:00:18.586827 - Current image size: 16 \n"
     ]
    },
    {
     "name": "stderr",
     "output_type": "stream",
     "text": [
      "100%|██████████| 67/67 [00:18<00:00,  3.60it/s, gp=0.0097, loss_critic=-.0996]  \n"
     ]
    },
    {
     "name": "stdout",
     "output_type": "stream",
     "text": [
      "Epoch [13/50] Global Epoch:73 - Epoch training time: 0:00:18.612761 - Current image size: 16 \n"
     ]
    },
    {
     "name": "stderr",
     "output_type": "stream",
     "text": [
      "100%|██████████| 67/67 [00:18<00:00,  3.60it/s, gp=0.00782, loss_critic=-.11]  \n"
     ]
    },
    {
     "name": "stdout",
     "output_type": "stream",
     "text": [
      "Epoch [14/50] Global Epoch:74 - Epoch training time: 0:00:18.620582 - Current image size: 16 \n"
     ]
    },
    {
     "name": "stderr",
     "output_type": "stream",
     "text": [
      "100%|██████████| 67/67 [00:18<00:00,  3.59it/s, gp=0.00487, loss_critic=0.0625] \n"
     ]
    },
    {
     "name": "stdout",
     "output_type": "stream",
     "text": [
      "Epoch [15/50] Global Epoch:75 - Epoch training time: 0:00:18.670881 - Current image size: 16 \n"
     ]
    },
    {
     "name": "stderr",
     "output_type": "stream",
     "text": [
      "100%|██████████| 67/67 [00:18<00:00,  3.60it/s, gp=0.00872, loss_critic=-.085]  \n"
     ]
    },
    {
     "name": "stdout",
     "output_type": "stream",
     "text": [
      "Epoch [16/50] Global Epoch:76 - Epoch training time: 0:00:18.614932 - Current image size: 16 \n"
     ]
    },
    {
     "name": "stderr",
     "output_type": "stream",
     "text": [
      "100%|██████████| 67/67 [00:18<00:00,  3.59it/s, gp=0.00989, loss_critic=0.0564]\n"
     ]
    },
    {
     "name": "stdout",
     "output_type": "stream",
     "text": [
      "Epoch [17/50] Global Epoch:77 - Epoch training time: 0:00:18.643956 - Current image size: 16 \n"
     ]
    },
    {
     "name": "stderr",
     "output_type": "stream",
     "text": [
      "100%|██████████| 67/67 [00:18<00:00,  3.60it/s, gp=0.00777, loss_critic=-.0283] \n"
     ]
    },
    {
     "name": "stdout",
     "output_type": "stream",
     "text": [
      "Epoch [18/50] Global Epoch:78 - Epoch training time: 0:00:18.624162 - Current image size: 16 \n"
     ]
    },
    {
     "name": "stderr",
     "output_type": "stream",
     "text": [
      "100%|██████████| 67/67 [00:18<00:00,  3.60it/s, gp=0.00592, loss_critic=-.102]  \n"
     ]
    },
    {
     "name": "stdout",
     "output_type": "stream",
     "text": [
      "Epoch [19/50] Global Epoch:79 - Epoch training time: 0:00:18.590925 - Current image size: 16 \n"
     ]
    },
    {
     "name": "stderr",
     "output_type": "stream",
     "text": [
      "100%|██████████| 67/67 [00:18<00:00,  3.60it/s, gp=0.011, loss_critic=0.128]    \n"
     ]
    },
    {
     "name": "stdout",
     "output_type": "stream",
     "text": [
      "Epoch [20/50] Global Epoch:80 - Epoch training time: 0:00:18.614018 - Current image size: 16 \n"
     ]
    },
    {
     "name": "stderr",
     "output_type": "stream",
     "text": [
      "100%|██████████| 67/67 [00:18<00:00,  3.60it/s, gp=0.00796, loss_critic=-.0445] \n"
     ]
    },
    {
     "name": "stdout",
     "output_type": "stream",
     "text": [
      "Epoch [21/50] Global Epoch:81 - Epoch training time: 0:00:18.599810 - Current image size: 16 \n"
     ]
    },
    {
     "name": "stderr",
     "output_type": "stream",
     "text": [
      "100%|██████████| 67/67 [00:18<00:00,  3.61it/s, gp=0.00425, loss_critic=-.109]  \n"
     ]
    },
    {
     "name": "stdout",
     "output_type": "stream",
     "text": [
      "Epoch [22/50] Global Epoch:82 - Epoch training time: 0:00:18.585352 - Current image size: 16 \n"
     ]
    },
    {
     "name": "stderr",
     "output_type": "stream",
     "text": [
      "100%|██████████| 67/67 [00:18<00:00,  3.60it/s, gp=0.00558, loss_critic=-.198]  \n"
     ]
    },
    {
     "name": "stdout",
     "output_type": "stream",
     "text": [
      "Epoch [23/50] Global Epoch:83 - Epoch training time: 0:00:18.591388 - Current image size: 16 \n"
     ]
    },
    {
     "name": "stderr",
     "output_type": "stream",
     "text": [
      "100%|██████████| 67/67 [00:18<00:00,  3.61it/s, gp=0.0139, loss_critic=0.0497]   \n"
     ]
    },
    {
     "name": "stdout",
     "output_type": "stream",
     "text": [
      "Epoch [24/50] Global Epoch:84 - Epoch training time: 0:00:18.565304 - Current image size: 16 \n"
     ]
    },
    {
     "name": "stderr",
     "output_type": "stream",
     "text": [
      "100%|██████████| 67/67 [00:18<00:00,  3.61it/s, gp=0.00376, loss_critic=-.117]  \n"
     ]
    },
    {
     "name": "stdout",
     "output_type": "stream",
     "text": [
      "Epoch [25/50] Global Epoch:85 - Epoch training time: 0:00:18.574808 - Current image size: 16 \n"
     ]
    },
    {
     "name": "stderr",
     "output_type": "stream",
     "text": [
      "100%|██████████| 67/67 [00:18<00:00,  3.60it/s, gp=0.0075, loss_critic=-.0404]  \n"
     ]
    },
    {
     "name": "stdout",
     "output_type": "stream",
     "text": [
      "Epoch [26/50] Global Epoch:86 - Epoch training time: 0:00:18.602014 - Current image size: 16 \n"
     ]
    },
    {
     "name": "stderr",
     "output_type": "stream",
     "text": [
      "100%|██████████| 67/67 [00:18<00:00,  3.60it/s, gp=0.00465, loss_critic=-.0777] \n"
     ]
    },
    {
     "name": "stdout",
     "output_type": "stream",
     "text": [
      "Epoch [27/50] Global Epoch:87 - Epoch training time: 0:00:18.607476 - Current image size: 16 \n"
     ]
    },
    {
     "name": "stderr",
     "output_type": "stream",
     "text": [
      "100%|██████████| 67/67 [00:18<00:00,  3.60it/s, gp=0.00589, loss_critic=-.0301]  \n"
     ]
    },
    {
     "name": "stdout",
     "output_type": "stream",
     "text": [
      "Epoch [28/50] Global Epoch:88 - Epoch training time: 0:00:18.610750 - Current image size: 16 \n"
     ]
    },
    {
     "name": "stderr",
     "output_type": "stream",
     "text": [
      "100%|██████████| 67/67 [00:18<00:00,  3.61it/s, gp=0.00878, loss_critic=0.111]  \n"
     ]
    },
    {
     "name": "stdout",
     "output_type": "stream",
     "text": [
      "Epoch [29/50] Global Epoch:89 - Epoch training time: 0:00:18.573710 - Current image size: 16 \n"
     ]
    },
    {
     "name": "stderr",
     "output_type": "stream",
     "text": [
      "100%|██████████| 67/67 [00:18<00:00,  3.59it/s, gp=0.0168, loss_critic=0.428]    \n"
     ]
    },
    {
     "name": "stdout",
     "output_type": "stream",
     "text": [
      "Epoch [30/50] Global Epoch:90 - Epoch training time: 0:00:18.665212 - Current image size: 16 \n"
     ]
    },
    {
     "name": "stderr",
     "output_type": "stream",
     "text": [
      "100%|██████████| 67/67 [00:18<00:00,  3.61it/s, gp=0.00519, loss_critic=-.117]  \n"
     ]
    },
    {
     "name": "stdout",
     "output_type": "stream",
     "text": [
      "Epoch [31/50] Global Epoch:91 - Epoch training time: 0:00:18.583039 - Current image size: 16 \n"
     ]
    },
    {
     "name": "stderr",
     "output_type": "stream",
     "text": [
      "100%|██████████| 67/67 [00:18<00:00,  3.60it/s, gp=0.00941, loss_critic=-.193]   \n"
     ]
    },
    {
     "name": "stdout",
     "output_type": "stream",
     "text": [
      "Epoch [32/50] Global Epoch:92 - Epoch training time: 0:00:18.621833 - Current image size: 16 \n"
     ]
    },
    {
     "name": "stderr",
     "output_type": "stream",
     "text": [
      "100%|██████████| 67/67 [00:18<00:00,  3.60it/s, gp=0.00949, loss_critic=-.0527]\n"
     ]
    },
    {
     "name": "stdout",
     "output_type": "stream",
     "text": [
      "Epoch [33/50] Global Epoch:93 - Epoch training time: 0:00:18.593815 - Current image size: 16 \n"
     ]
    },
    {
     "name": "stderr",
     "output_type": "stream",
     "text": [
      "100%|██████████| 67/67 [00:18<00:00,  3.60it/s, gp=0.00541, loss_critic=-.145]  \n"
     ]
    },
    {
     "name": "stdout",
     "output_type": "stream",
     "text": [
      "Epoch [34/50] Global Epoch:94 - Epoch training time: 0:00:18.593906 - Current image size: 16 \n"
     ]
    },
    {
     "name": "stderr",
     "output_type": "stream",
     "text": [
      "100%|██████████| 67/67 [00:18<00:00,  3.61it/s, gp=0.00744, loss_critic=-.0408] \n"
     ]
    },
    {
     "name": "stdout",
     "output_type": "stream",
     "text": [
      "Epoch [35/50] Global Epoch:95 - Epoch training time: 0:00:18.567269 - Current image size: 16 \n"
     ]
    },
    {
     "name": "stderr",
     "output_type": "stream",
     "text": [
      "100%|██████████| 67/67 [00:18<00:00,  3.61it/s, gp=0.00836, loss_critic=-.0615]\n"
     ]
    },
    {
     "name": "stdout",
     "output_type": "stream",
     "text": [
      "Epoch [36/50] Global Epoch:96 - Epoch training time: 0:00:18.584439 - Current image size: 16 \n"
     ]
    },
    {
     "name": "stderr",
     "output_type": "stream",
     "text": [
      "100%|██████████| 67/67 [00:18<00:00,  3.60it/s, gp=0.0112, loss_critic=-.125]   \n"
     ]
    },
    {
     "name": "stdout",
     "output_type": "stream",
     "text": [
      "Epoch [37/50] Global Epoch:97 - Epoch training time: 0:00:18.606682 - Current image size: 16 \n"
     ]
    },
    {
     "name": "stderr",
     "output_type": "stream",
     "text": [
      "100%|██████████| 67/67 [00:18<00:00,  3.61it/s, gp=0.00603, loss_critic=-.132]  \n"
     ]
    },
    {
     "name": "stdout",
     "output_type": "stream",
     "text": [
      "Epoch [38/50] Global Epoch:98 - Epoch training time: 0:00:18.583914 - Current image size: 16 \n"
     ]
    },
    {
     "name": "stderr",
     "output_type": "stream",
     "text": [
      "100%|██████████| 67/67 [00:18<00:00,  3.61it/s, gp=0.00847, loss_critic=0.013]  \n"
     ]
    },
    {
     "name": "stdout",
     "output_type": "stream",
     "text": [
      "Epoch [39/50] Global Epoch:99 - Epoch training time: 0:00:18.550230 - Current image size: 16 \n"
     ]
    },
    {
     "name": "stderr",
     "output_type": "stream",
     "text": [
      "100%|██████████| 67/67 [00:18<00:00,  3.61it/s, gp=0.00768, loss_critic=-.0753]\n"
     ]
    },
    {
     "name": "stdout",
     "output_type": "stream",
     "text": [
      "Epoch [40/50] Global Epoch:100 - Epoch training time: 0:00:18.561850 - Current image size: 16 \n"
     ]
    },
    {
     "name": "stderr",
     "output_type": "stream",
     "text": [
      "100%|██████████| 67/67 [00:18<00:00,  3.61it/s, gp=0.00335, loss_critic=-.0675]  \n"
     ]
    },
    {
     "name": "stdout",
     "output_type": "stream",
     "text": [
      "Epoch [41/50] Global Epoch:101 - Epoch training time: 0:00:18.581717 - Current image size: 16 \n"
     ]
    },
    {
     "name": "stderr",
     "output_type": "stream",
     "text": [
      "100%|██████████| 67/67 [00:18<00:00,  3.61it/s, gp=0.0082, loss_critic=0.232]   \n"
     ]
    },
    {
     "name": "stdout",
     "output_type": "stream",
     "text": [
      "Epoch [42/50] Global Epoch:102 - Epoch training time: 0:00:18.567607 - Current image size: 16 \n"
     ]
    },
    {
     "name": "stderr",
     "output_type": "stream",
     "text": [
      "100%|██████████| 67/67 [00:18<00:00,  3.61it/s, gp=0.00996, loss_critic=0.116]  \n"
     ]
    },
    {
     "name": "stdout",
     "output_type": "stream",
     "text": [
      "Epoch [43/50] Global Epoch:103 - Epoch training time: 0:00:18.578524 - Current image size: 16 \n"
     ]
    },
    {
     "name": "stderr",
     "output_type": "stream",
     "text": [
      "100%|██████████| 67/67 [00:18<00:00,  3.61it/s, gp=0.00517, loss_critic=0.0203] \n"
     ]
    },
    {
     "name": "stdout",
     "output_type": "stream",
     "text": [
      "Epoch [44/50] Global Epoch:104 - Epoch training time: 0:00:18.555419 - Current image size: 16 \n"
     ]
    },
    {
     "name": "stderr",
     "output_type": "stream",
     "text": [
      "100%|██████████| 67/67 [00:18<00:00,  3.60it/s, gp=0.00428, loss_critic=-.164]  \n"
     ]
    },
    {
     "name": "stdout",
     "output_type": "stream",
     "text": [
      "Epoch [45/50] Global Epoch:105 - Epoch training time: 0:00:18.619222 - Current image size: 16 \n"
     ]
    },
    {
     "name": "stderr",
     "output_type": "stream",
     "text": [
      "100%|██████████| 67/67 [00:18<00:00,  3.61it/s, gp=0.00713, loss_critic=-.0895] \n"
     ]
    },
    {
     "name": "stdout",
     "output_type": "stream",
     "text": [
      "Epoch [46/50] Global Epoch:106 - Epoch training time: 0:00:18.542291 - Current image size: 16 \n"
     ]
    },
    {
     "name": "stderr",
     "output_type": "stream",
     "text": [
      "100%|██████████| 67/67 [00:18<00:00,  3.62it/s, gp=0.00437, loss_critic=-.185]  \n"
     ]
    },
    {
     "name": "stdout",
     "output_type": "stream",
     "text": [
      "Epoch [47/50] Global Epoch:107 - Epoch training time: 0:00:18.533899 - Current image size: 16 \n"
     ]
    },
    {
     "name": "stderr",
     "output_type": "stream",
     "text": [
      "100%|██████████| 67/67 [00:18<00:00,  3.60it/s, gp=0.003, loss_critic=-.151]    \n"
     ]
    },
    {
     "name": "stdout",
     "output_type": "stream",
     "text": [
      "Epoch [48/50] Global Epoch:108 - Epoch training time: 0:00:18.600436 - Current image size: 16 \n"
     ]
    },
    {
     "name": "stderr",
     "output_type": "stream",
     "text": [
      "100%|██████████| 67/67 [00:18<00:00,  3.61it/s, gp=0.00694, loss_critic=0.0103] \n"
     ]
    },
    {
     "name": "stdout",
     "output_type": "stream",
     "text": [
      "Epoch [49/50] Global Epoch:109 - Epoch training time: 0:00:18.567102 - Current image size: 16 \n"
     ]
    },
    {
     "name": "stderr",
     "output_type": "stream",
     "text": [
      "100%|██████████| 67/67 [00:18<00:00,  3.61it/s, gp=0.00726, loss_critic=-.0122]\n"
     ]
    },
    {
     "name": "stdout",
     "output_type": "stream",
     "text": [
      "Epoch [50/50] Global Epoch:110 - Epoch training time: 0:00:18.566093 - Current image size: 16 \n",
      "=> Saving checkpoint\n",
      "=> Saving checkpoint\n"
     ]
    },
    {
     "name": "stderr",
     "output_type": "stream",
     "text": [
      "100%|██████████| 134/134 [01:10<00:00,  1.90it/s, gp=0.0101, loss_critic=-.0498] \n"
     ]
    },
    {
     "name": "stdout",
     "output_type": "stream",
     "text": [
      "Epoch [1/50] Global Epoch:111 - Epoch training time: 0:01:10.354898 - Current image size: 32 \n"
     ]
    },
    {
     "name": "stderr",
     "output_type": "stream",
     "text": [
      "100%|██████████| 134/134 [01:10<00:00,  1.89it/s, gp=0.00893, loss_critic=0.0992] \n"
     ]
    },
    {
     "name": "stdout",
     "output_type": "stream",
     "text": [
      "Epoch [2/50] Global Epoch:112 - Epoch training time: 0:01:10.782108 - Current image size: 32 \n"
     ]
    },
    {
     "name": "stderr",
     "output_type": "stream",
     "text": [
      "100%|██████████| 134/134 [01:10<00:00,  1.89it/s, gp=0.00742, loss_critic=-.747] \n"
     ]
    },
    {
     "name": "stdout",
     "output_type": "stream",
     "text": [
      "Epoch [3/50] Global Epoch:113 - Epoch training time: 0:01:10.858949 - Current image size: 32 \n"
     ]
    },
    {
     "name": "stderr",
     "output_type": "stream",
     "text": [
      "100%|██████████| 134/134 [01:10<00:00,  1.89it/s, gp=0.0108, loss_critic=-.53]   \n"
     ]
    },
    {
     "name": "stdout",
     "output_type": "stream",
     "text": [
      "Epoch [4/50] Global Epoch:114 - Epoch training time: 0:01:10.848991 - Current image size: 32 \n"
     ]
    },
    {
     "name": "stderr",
     "output_type": "stream",
     "text": [
      "100%|██████████| 134/134 [01:10<00:00,  1.89it/s, gp=0.0102, loss_critic=-.731]  \n"
     ]
    },
    {
     "name": "stdout",
     "output_type": "stream",
     "text": [
      "Epoch [5/50] Global Epoch:115 - Epoch training time: 0:01:10.882682 - Current image size: 32 \n"
     ]
    },
    {
     "name": "stderr",
     "output_type": "stream",
     "text": [
      "100%|██████████| 134/134 [01:10<00:00,  1.89it/s, gp=0.00356, loss_critic=-.0713]\n"
     ]
    },
    {
     "name": "stdout",
     "output_type": "stream",
     "text": [
      "Epoch [6/50] Global Epoch:116 - Epoch training time: 0:01:10.894640 - Current image size: 32 \n"
     ]
    },
    {
     "name": "stderr",
     "output_type": "stream",
     "text": [
      "100%|██████████| 134/134 [01:10<00:00,  1.89it/s, gp=0.00884, loss_critic=-.0517]\n"
     ]
    },
    {
     "name": "stdout",
     "output_type": "stream",
     "text": [
      "Epoch [7/50] Global Epoch:117 - Epoch training time: 0:01:10.931739 - Current image size: 32 \n"
     ]
    },
    {
     "name": "stderr",
     "output_type": "stream",
     "text": [
      "100%|██████████| 134/134 [01:10<00:00,  1.89it/s, gp=0.00729, loss_critic=-.155] \n"
     ]
    },
    {
     "name": "stdout",
     "output_type": "stream",
     "text": [
      "Epoch [8/50] Global Epoch:118 - Epoch training time: 0:01:10.899034 - Current image size: 32 \n"
     ]
    },
    {
     "name": "stderr",
     "output_type": "stream",
     "text": [
      "100%|██████████| 134/134 [01:10<00:00,  1.89it/s, gp=0.00724, loss_critic=-.121]   \n"
     ]
    },
    {
     "name": "stdout",
     "output_type": "stream",
     "text": [
      "Epoch [9/50] Global Epoch:119 - Epoch training time: 0:01:10.905977 - Current image size: 32 \n"
     ]
    },
    {
     "name": "stderr",
     "output_type": "stream",
     "text": [
      "100%|██████████| 134/134 [01:11<00:00,  1.88it/s, gp=0.00821, loss_critic=-.495] \n"
     ]
    },
    {
     "name": "stdout",
     "output_type": "stream",
     "text": [
      "Epoch [10/50] Global Epoch:120 - Epoch training time: 0:01:11.401381 - Current image size: 32 \n"
     ]
    },
    {
     "name": "stderr",
     "output_type": "stream",
     "text": [
      "100%|██████████| 134/134 [01:10<00:00,  1.89it/s, gp=0.00324, loss_critic=-.554]  \n"
     ]
    },
    {
     "name": "stdout",
     "output_type": "stream",
     "text": [
      "Epoch [11/50] Global Epoch:121 - Epoch training time: 0:01:10.934842 - Current image size: 32 \n"
     ]
    },
    {
     "name": "stderr",
     "output_type": "stream",
     "text": [
      "100%|██████████| 134/134 [01:10<00:00,  1.89it/s, gp=0.0112, loss_critic=-.624]  \n"
     ]
    },
    {
     "name": "stdout",
     "output_type": "stream",
     "text": [
      "Epoch [12/50] Global Epoch:122 - Epoch training time: 0:01:10.944522 - Current image size: 32 \n"
     ]
    },
    {
     "name": "stderr",
     "output_type": "stream",
     "text": [
      "100%|██████████| 134/134 [01:10<00:00,  1.89it/s, gp=0.0049, loss_critic=-.259]  \n"
     ]
    },
    {
     "name": "stdout",
     "output_type": "stream",
     "text": [
      "Epoch [13/50] Global Epoch:123 - Epoch training time: 0:01:10.901949 - Current image size: 32 \n"
     ]
    },
    {
     "name": "stderr",
     "output_type": "stream",
     "text": [
      "100%|██████████| 134/134 [01:10<00:00,  1.89it/s, gp=0.00489, loss_critic=-.713]   \n"
     ]
    },
    {
     "name": "stdout",
     "output_type": "stream",
     "text": [
      "Epoch [14/50] Global Epoch:124 - Epoch training time: 0:01:10.908542 - Current image size: 32 \n"
     ]
    },
    {
     "name": "stderr",
     "output_type": "stream",
     "text": [
      "100%|██████████| 134/134 [01:10<00:00,  1.89it/s, gp=0.0193, loss_critic=-.401]   \n"
     ]
    },
    {
     "name": "stdout",
     "output_type": "stream",
     "text": [
      "Epoch [15/50] Global Epoch:125 - Epoch training time: 0:01:10.882686 - Current image size: 32 \n"
     ]
    },
    {
     "name": "stderr",
     "output_type": "stream",
     "text": [
      "100%|██████████| 134/134 [01:10<00:00,  1.89it/s, gp=0.0123, loss_critic=-.317]   \n"
     ]
    },
    {
     "name": "stdout",
     "output_type": "stream",
     "text": [
      "Epoch [16/50] Global Epoch:126 - Epoch training time: 0:01:10.914817 - Current image size: 32 \n"
     ]
    },
    {
     "name": "stderr",
     "output_type": "stream",
     "text": [
      "100%|██████████| 134/134 [01:10<00:00,  1.89it/s, gp=0.00559, loss_critic=-.0879] \n"
     ]
    },
    {
     "name": "stdout",
     "output_type": "stream",
     "text": [
      "Epoch [17/50] Global Epoch:127 - Epoch training time: 0:01:10.908374 - Current image size: 32 \n"
     ]
    },
    {
     "name": "stderr",
     "output_type": "stream",
     "text": [
      "100%|██████████| 134/134 [01:10<00:00,  1.89it/s, gp=0.0116, loss_critic=-.197]  \n"
     ]
    },
    {
     "name": "stdout",
     "output_type": "stream",
     "text": [
      "Epoch [18/50] Global Epoch:128 - Epoch training time: 0:01:10.909518 - Current image size: 32 \n"
     ]
    },
    {
     "name": "stderr",
     "output_type": "stream",
     "text": [
      "100%|██████████| 134/134 [01:10<00:00,  1.89it/s, gp=0.00913, loss_critic=-.161]  \n"
     ]
    },
    {
     "name": "stdout",
     "output_type": "stream",
     "text": [
      "Epoch [19/50] Global Epoch:129 - Epoch training time: 0:01:10.873812 - Current image size: 32 \n"
     ]
    },
    {
     "name": "stderr",
     "output_type": "stream",
     "text": [
      "100%|██████████| 134/134 [01:10<00:00,  1.89it/s, gp=0.0117, loss_critic=-.0727]  \n"
     ]
    },
    {
     "name": "stdout",
     "output_type": "stream",
     "text": [
      "Epoch [20/50] Global Epoch:130 - Epoch training time: 0:01:10.898541 - Current image size: 32 \n"
     ]
    },
    {
     "name": "stderr",
     "output_type": "stream",
     "text": [
      " 51%|█████     | 68/134 [00:36<00:34,  1.89it/s, gp=0.0193, loss_critic=-.244]  "
     ]
    }
   ],
   "source": [
    "## df = pd.DataFrame(columns=['model', 'alpha_mul', 'seed', 'epochs', 'hist_type', 'lr','aug', 'bs'])\n",
    "# df.to_csv('gan_logging.csv', index=False)\n",
    "\n",
    "# Treinamento do modelo com bons resultados para tipo escamoso\n",
    "columns=['model', 'alpha_mul', 'seed', 'epochs', 'hist_type', 'lr','aug', 'bs', 'training_time']\n",
    "\n",
    "ALPHA_MUL = 0.75\n",
    "SEED = 42\n",
    "\n",
    "seed_everything(seed=SEED)\n",
    "for LUNG_CANCER_TYPE in ['squamous']:\n",
    "    for BATCH_SIZES in [[64, 64, 64, 32, 32]]:\n",
    "        for PROGRESSIVE_EPOCHS in [[30, 30, 50, 50, 75]]:\n",
    "            print(f'Training for {LUNG_CANCER_TYPE}')\n",
    "            bs_str = '_'.join(map(str, BATCH_SIZES))\n",
    "            pg_epochs = '_'.join(map(str, PROGRESSIVE_EPOCHS))\n",
    "            MODEL_NAME = f'pggan_roi_{LUNG_CANCER_TYPE}_epochs_{pg_epochs}_alpha_{ALPHA_MUL}_bs_{bs_str}_affn_trns_only'\n",
    "            CHECKPOINT_GEN = f\"generator_{MODEL_NAME}.pth.tar\"\n",
    "            CHECKPOINT_CRITIC = f\"critic_{MODEL_NAME}.pth.tar\"\n",
    "            TRAIN_DIR = f\"/Storage/PauloOctavioDir/nodule_rois/gan/{LUNG_CANCER_TYPE}/images\"\n",
    "            START_TRAIN_AT_IMG_SIZE = 4\n",
    "            training_time = main()\n",
    "            df_data = [\n",
    "                MODEL_NAME, str(ALPHA_MUL), str(SEED), str(pg_epochs),\n",
    "                LUNG_CANCER_TYPE, str(LEARNING_RATE), 'only_affine',\n",
    "                BATCH_SIZES, training_time\n",
    "            ]\n",
    "            for col, val in zip(columns, df_data):\n",
    "                print(f\"{col}: {val}\")\n",
    "            df = pd.read_csv('gan_logging.csv')\n",
    "            df.loc[len(df)] = df_data\n",
    "            df.to_csv('gan_logging.csv', index=False)"
   ]
  },
  {
   "cell_type": "code",
   "execution_count": null,
   "id": "367722b2",
   "metadata": {},
   "outputs": [],
   "source": [
    "## df = pd.DataFrame(columns=['model', 'alpha_mul', 'seed', 'epochs', 'hist_type', 'lr','aug', 'bs'])\n",
    "# df.to_csv('gan_logging.csv', index=False)\n",
    "\n",
    "# Treinamento do modelo com bons resultados para tipo escamoso\n",
    "columns=['model', 'alpha_mul', 'seed', 'epochs', 'hist_type', 'lr','aug', 'bs', 'training_time']\n",
    "\n",
    "ALPHA_MUL = 0.75\n",
    "SEED = 42\n",
    "\n",
    "seed_everything(seed=SEED)\n",
    "for LUNG_CANCER_TYPE in ['squamous']:\n",
    "    for BATCH_SIZES in [[64, 64, 64, 32, 32]]:\n",
    "        for EPOCHS in [[50], [75]]:\n",
    "            PROGRESSIVE_EPOCHS = EPOCHS * len(BATCH_SIZES)\n",
    "            print(f'Training for {LUNG_CANCER_TYPE}')\n",
    "            bs_str = '_'.join(map(str, BATCH_SIZES))\n",
    "            pg_epochs = '_'.join(map(str, PROGRESSIVE_EPOCHS))\n",
    "            MODEL_NAME = f'pggan_roi_{LUNG_CANCER_TYPE}_epochs_{EPOCHS[0]}_alpha_{ALPHA_MUL}_bs_{bs_str}_affn_trns_only'\n",
    "            CHECKPOINT_GEN = f\"generator_{MODEL_NAME}.pth.tar\"\n",
    "            CHECKPOINT_CRITIC = f\"critic_{MODEL_NAME}.pth.tar\"\n",
    "            TRAIN_DIR = f\"/Storage/PauloOctavioDir/nodule_rois/gan/{LUNG_CANCER_TYPE}/images\"\n",
    "            START_TRAIN_AT_IMG_SIZE = 4\n",
    "            training_time = main()\n",
    "            df_data = [\n",
    "                MODEL_NAME, str(ALPHA_MUL), str(SEED), str(EPOCHS[0]),\n",
    "                LUNG_CANCER_TYPE, str(LEARNING_RATE), 'only_affine',\n",
    "                BATCH_SIZES, training_time\n",
    "            ]\n",
    "            for col, val in zip(columns, df_data):\n",
    "                print(f\"{col}: {val}\")\n",
    "            df = pd.read_csv('gan_logging.csv')\n",
    "            df.loc[len(df)] = df_data\n",
    "            df.to_csv('gan_logging.csv', index=False)"
   ]
  },
  {
   "cell_type": "code",
   "execution_count": null,
   "id": "01bc66b7",
   "metadata": {},
   "outputs": [],
   "source": [
    "# Treinamento do modelo com bons resultados para tipo escamoso\n",
    "columns=['model', 'alpha_mul', 'seed', 'epochs', 'hist_type', 'lr','aug', 'bs', 'training_time']\n",
    "\n",
    "ALPHA_MUL = 0.75\n",
    "SEED = 42\n",
    "\n",
    "seed_everything(seed=SEED)\n",
    "for LUNG_CANCER_TYPE in ['adeno']:\n",
    "    for BATCH_SIZES in [[64, 64, 64, 32, 32]]:\n",
    "        for PROGRESSIVE_EPOCHS in [[30, 30, 50, 50, 75]]:\n",
    "            print(f'Training for {LUNG_CANCER_TYPE}')\n",
    "            bs_str = '_'.join(map(str, BATCH_SIZES))\n",
    "            pg_epochs = '_'.join(map(str, PROGRESSIVE_EPOCHS))\n",
    "            MODEL_NAME = f'pggan_roi_{LUNG_CANCER_TYPE}_epochs_{pg_epochs}_alpha_{ALPHA_MUL}_bs_{bs_str}_affn_trns_only'\n",
    "            CHECKPOINT_GEN = f\"generator_{MODEL_NAME}.pth.tar\"\n",
    "            CHECKPOINT_CRITIC = f\"critic_{MODEL_NAME}.pth.tar\"\n",
    "            TRAIN_DIR = f\"/Storage/PauloOctavioDir/nodule_rois/gan/{LUNG_CANCER_TYPE}/images\"\n",
    "            START_TRAIN_AT_IMG_SIZE = 4\n",
    "            training_time = main()\n",
    "            df_data = [\n",
    "                MODEL_NAME, str(ALPHA_MUL), str(SEED), str(pg_epochs),\n",
    "                LUNG_CANCER_TYPE, str(LEARNING_RATE), 'only_affine',\n",
    "                BATCH_SIZES, training_time\n",
    "            ]\n",
    "            for col, val in zip(columns, df_data):\n",
    "                print(f\"{col}: {val}\")\n",
    "            df = pd.read_csv('gan_logging.csv')\n",
    "            df.loc[len(df)] = df_data\n",
    "            df.to_csv('gan_logging.csv', index=False)"
   ]
  },
  {
   "cell_type": "code",
   "execution_count": null,
   "id": "bff63e1e",
   "metadata": {},
   "outputs": [],
   "source": [
    "EPOCHS = [50]\n",
    "PROGRESSIVE_EPOCHS = EPOCHS * len(BATCH_SIZES)\n",
    "for LUNG_CANCER_TYPE in ['adeno', 'squamous']:\n",
    "    for ALPHA_MUL in [0.5, 1, 0.75]:\n",
    "        print(f'Training for {LUNG_CANCER_TYPE}')\n",
    "        MODEL_NAME = f'pggan_roi_{LUNG_CANCER_TYPE}_epochs_{EPOCHS[0]}_alpha_{ALPHA_MUL}_aug_rot_blur_sharp'\n",
    "        CHECKPOINT_GEN = f\"generator_{MODEL_NAME}.pth.tar\"\n",
    "        CHECKPOINT_CRITIC = f\"critic_{MODEL_NAME}.pth.tar\"\n",
    "        TRAIN_DIR = f\"/Storage/PauloOctavioDir/nodule_rois/gan_aug/{LUNG_CANCER_TYPE}/images\"\n",
    "        START_TRAIN_AT_IMG_SIZE = 4\n",
    "        main()"
   ]
  }
 ],
 "metadata": {
  "kernelspec": {
   "display_name": "Python 3",
   "language": "python",
   "name": "python3"
  },
  "language_info": {
   "codemirror_mode": {
    "name": "ipython",
    "version": 3
   },
   "file_extension": ".py",
   "mimetype": "text/x-python",
   "name": "python",
   "nbconvert_exporter": "python",
   "pygments_lexer": "ipython3",
   "version": "3.6.13"
  }
 },
 "nbformat": 4,
 "nbformat_minor": 5
}
